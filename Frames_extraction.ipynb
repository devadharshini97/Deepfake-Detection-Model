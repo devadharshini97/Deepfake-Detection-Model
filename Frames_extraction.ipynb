{
 "cells": [
  {
   "cell_type": "code",
   "execution_count": 1,
   "metadata": {},
   "outputs": [],
   "source": [
    "import cv2\n",
    "from os import makedirs\n",
    "from os.path import join, exists\n",
    "import glob"
   ]
  },
  {
   "cell_type": "code",
   "execution_count": 2,
   "metadata": {},
   "outputs": [
    {
     "data": {
      "text/plain": [
       "['D:/sem2/adv_ML/Project/dataset/Real4']"
      ]
     },
     "execution_count": 2,
     "metadata": {},
     "output_type": "execute_result"
    }
   ],
   "source": [
    "training_videos_folder = [\"D:/sem2/adv_ML/Project/dataset/Real4\"]\n",
    "training_videos_folder"
   ]
  },
  {
   "cell_type": "code",
   "execution_count": 3,
   "metadata": {},
   "outputs": [
    {
     "name": "stdout",
     "output_type": "stream",
     "text": [
      "Number of videos done: 1000\n",
      "Number of videos done: 1100\n"
     ]
    }
   ],
   "source": [
    "for folder in training_videos_folder:\n",
    "    videos_path = glob.glob(join(folder, \"*.mp4\"))\n",
    "    folder = folder.split(\"/\")[5]\n",
    "    counter = 1000\n",
    "    for video_path in videos_path:\n",
    "        #opens the video file\n",
    "        cap = cv2.VideoCapture(video_path) #< cv2.VideoCapture 000001E558FDE350>\n",
    "        vid = video_path.split(\"/\")[-1] #'Real\\\\id1_0009.mp4'\n",
    "        vid = vid.split(\".\")[0] #'Real\\\\id1_0009'\n",
    "        frameRate = cap.get(5)  # frame rate -> 30\n",
    "        if not exists(\"D:/sem2/adv_ML/Project/dataset/frames2\" + folder + \"/video_\" + str(int(counter))):\n",
    "            makedirs(\"D:/sem2/adv_ML/Project/dataset/frames2\" + folder + \"/video_\" + str(int(counter)))\n",
    "        while cap.isOpened():\n",
    "            frameId = cap.get(1)  # frame number currently used for extraction\n",
    "              #read function extracts the frames and returns the frame itself (that we name frame) and another value ‘ret’. \n",
    "              #If the frame is found this will be True otherwise it will be False. \n",
    "            ret, frame = cap.read() \n",
    "            if not ret:\n",
    "                break\n",
    "            filename = (\n",
    "                \"D:/sem2/adv_ML/Project/dataset/frames2\"\n",
    "                + folder\n",
    "                + \"/video_\"\n",
    "                + str(int(counter))\n",
    "                + \"/image_\"\n",
    "                + str(int(frameId) + 1)\n",
    "                + \".jpg\"\n",
    "            )\n",
    "            cv2.imwrite(filename, frame)\n",
    "            if frameId > 24:\n",
    "                break\n",
    "        cap.release()\n",
    "        if counter % 100 == 0:\n",
    "            print(\"Number of videos done:\", counter)\n",
    "        counter += 1   \n",
    "#cap\n",
    "#folder"
   ]
  },
  {
   "cell_type": "code",
   "execution_count": 45,
   "metadata": {},
   "outputs": [
    {
     "data": {
      "text/plain": [
       "(< cv2.VideoCapture 000001E558FDE950>, 'Fake\\\\id0_id9_0009')"
      ]
     },
     "execution_count": 45,
     "metadata": {},
     "output_type": "execute_result"
    }
   ],
   "source": [
    "cap, vid"
   ]
  },
  {
   "cell_type": "code",
   "execution_count": null,
   "metadata": {},
   "outputs": [],
   "source": []
  }
 ],
 "metadata": {
  "kernelspec": {
   "display_name": "Python 3",
   "language": "python",
   "name": "python3"
  },
  "language_info": {
   "codemirror_mode": {
    "name": "ipython",
    "version": 3
   },
   "file_extension": ".py",
   "mimetype": "text/x-python",
   "name": "python",
   "nbconvert_exporter": "python",
   "pygments_lexer": "ipython3",
   "version": "3.10.5"
  },
  "orig_nbformat": 4,
  "vscode": {
   "interpreter": {
    "hash": "a4b75115b07bd9f66585727a34fe1cc852f2dfd51495e71583a23a1899c95d05"
   }
  }
 },
 "nbformat": 4,
 "nbformat_minor": 2
}
